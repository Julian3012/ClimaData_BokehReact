{
 "cells": [
  {
   "cell_type": "code",
   "execution_count": 5,
   "metadata": {
    "ExecuteTime": {
     "end_time": "2020-05-18T10:51:42.135105Z",
     "start_time": "2020-05-18T10:51:42.131678Z"
    }
   },
   "outputs": [],
   "source": [
    "aggregateDimensions = [\n",
    "            {\n",
    "                \"value\": \"None\",\n",
    "                \"label\": \"None\"\n",
    "            },\n",
    "            {\n",
    "                \"value\": \"height\",\n",
    "                \"label\": \"height\"\n",
    "            },\n",
    "            {\n",
    "                \"value\": \"lat\",\n",
    "                \"label\": \"lat\"\n",
    "            },\n",
    "            {\n",
    "                \"value\": \"heightProfile\",\n",
    "                \"label\": \"heightProfile\"\n",
    "            }\n",
    "        ]"
   ]
  },
  {
   "cell_type": "code",
   "execution_count": 6,
   "metadata": {
    "ExecuteTime": {
     "end_time": "2020-05-18T10:51:42.591087Z",
     "start_time": "2020-05-18T10:51:42.588658Z"
    }
   },
   "outputs": [],
   "source": [
    "newEntry = {\"value\": \"time\", \"label\": \"time\"}\n",
    "aggregateDimensions.append(new)"
   ]
  },
  {
   "cell_type": "code",
   "execution_count": 7,
   "metadata": {
    "ExecuteTime": {
     "end_time": "2020-05-18T10:51:43.268951Z",
     "start_time": "2020-05-18T10:51:43.265633Z"
    }
   },
   "outputs": [
    {
     "data": {
      "text/plain": [
       "[{'value': 'None', 'label': 'None'},\n",
       " {'value': 'height', 'label': 'height'},\n",
       " {'value': 'lat', 'label': 'lat'},\n",
       " {'value': 'heightProfile', 'label': 'heightProfile'},\n",
       " {'value': 'time', 'label': 'time'}]"
      ]
     },
     "execution_count": 7,
     "metadata": {},
     "output_type": "execute_result"
    }
   ],
   "source": [
    "aggregateDimensions"
   ]
  },
  {
   "cell_type": "code",
   "execution_count": null,
   "metadata": {},
   "outputs": [],
   "source": []
  },
  {
   "cell_type": "code",
   "execution_count": 8,
   "metadata": {
    "ExecuteTime": {
     "end_time": "2020-05-18T13:14:51.761283Z",
     "start_time": "2020-05-18T13:14:51.756816Z"
    }
   },
   "outputs": [],
   "source": [
    "PARAMS = {\n",
    "    \"dataPath\": \"2016032700-ART-chemtracer_grid_DOM01_PL_0007.nc\",\n",
    "    \"mesh\": \"DOM1\",\n",
    "    \"variable\": \"TR_stn\",\n",
    "    \"showCoastline\": True,\n",
    "    \"colorMap\": \"Blues\",\n",
    "    \"fixColoring\": False,\n",
    "    \"symColoring\": False,\n",
    "    \"logzColoring\": False,\n",
    "    \"colorLevels\": 0,\n",
    "    \"aggregateDim\": \"None\",\n",
    "    \"aggregateFun\": \"None\",\n",
    "}"
   ]
  },
  {
   "cell_type": "code",
   "execution_count": 9,
   "metadata": {
    "ExecuteTime": {
     "end_time": "2020-05-18T13:15:05.419210Z",
     "start_time": "2020-05-18T13:15:05.414601Z"
    }
   },
   "outputs": [
    {
     "data": {
      "text/plain": [
       "'2016032700-ART-chemtracer_grid_DOM01_PL_0007.nc'"
      ]
     },
     "execution_count": 9,
     "metadata": {},
     "output_type": "execute_result"
    }
   ],
   "source": [
    "PARAMS[\"dataPath\"]"
   ]
  },
  {
   "cell_type": "code",
   "execution_count": null,
   "metadata": {},
   "outputs": [],
   "source": []
  },
  {
   "cell_type": "code",
   "execution_count": null,
   "metadata": {},
   "outputs": [],
   "source": []
  },
  {
   "cell_type": "code",
   "execution_count": null,
   "metadata": {},
   "outputs": [],
   "source": []
  },
  {
   "cell_type": "code",
   "execution_count": null,
   "metadata": {},
   "outputs": [],
   "source": []
  },
  {
   "cell_type": "code",
   "execution_count": null,
   "metadata": {},
   "outputs": [],
   "source": []
  },
  {
   "cell_type": "code",
   "execution_count": null,
   "metadata": {},
   "outputs": [],
   "source": []
  }
 ],
 "metadata": {
  "kernelspec": {
   "display_name": "Python 3.7.3 64-bit ('ncview2-2': conda)",
   "language": "python",
   "name": "python37364bitncview22condabadaa010e3c84e6895b7641d1588829e"
  },
  "language_info": {
   "codemirror_mode": {
    "name": "ipython",
    "version": 3
   },
   "file_extension": ".py",
   "mimetype": "text/x-python",
   "name": "python",
   "nbconvert_exporter": "python",
   "pygments_lexer": "ipython3",
   "version": "3.7.3"
  },
  "toc": {
   "base_numbering": 1,
   "nav_menu": {},
   "number_sections": true,
   "sideBar": true,
   "skip_h1_title": false,
   "title_cell": "Table of Contents",
   "title_sidebar": "Contents",
   "toc_cell": false,
   "toc_position": {},
   "toc_section_display": true,
   "toc_window_display": false
  },
  "varInspector": {
   "cols": {
    "lenName": 16,
    "lenType": 16,
    "lenVar": 40
   },
   "kernels_config": {
    "python": {
     "delete_cmd_postfix": "",
     "delete_cmd_prefix": "del ",
     "library": "var_list.py",
     "varRefreshCmd": "print(var_dic_list())"
    },
    "r": {
     "delete_cmd_postfix": ") ",
     "delete_cmd_prefix": "rm(",
     "library": "var_list.r",
     "varRefreshCmd": "cat(var_dic_list()) "
    }
   },
   "types_to_exclude": [
    "module",
    "function",
    "builtin_function_or_method",
    "instance",
    "_Feature"
   ],
   "window_display": false
  }
 },
 "nbformat": 4,
 "nbformat_minor": 4
}
