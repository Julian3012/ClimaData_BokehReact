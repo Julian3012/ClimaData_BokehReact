{
 "cells": [
  {
   "cell_type": "code",
   "execution_count": 3,
   "metadata": {
    "ExecuteTime": {
     "end_time": "2020-05-27T17:40:26.281100Z",
     "start_time": "2020-05-27T17:40:26.261065Z"
    }
   },
   "outputs": [
    {
     "ename": "RuntimeError",
     "evalue": "no display hook installed for notebook type None",
     "output_type": "error",
     "traceback": [
      "\u001b[0;31m---------------------------------------------------------------------------\u001b[0m",
      "\u001b[0;31mRuntimeError\u001b[0m                              Traceback (most recent call last)",
      "\u001b[0;32m<ipython-input-3-62073409ab84>\u001b[0m in \u001b[0;36m<module>\u001b[0;34m\u001b[0m\n\u001b[1;32m     59\u001b[0m \u001b[0;34m\u001b[0m\u001b[0m\n\u001b[1;32m     60\u001b[0m \u001b[0;31m# To display in the notebook\u001b[0m\u001b[0;34m\u001b[0m\u001b[0;34m\u001b[0m\u001b[0;34m\u001b[0m\u001b[0m\n\u001b[0;32m---> 61\u001b[0;31m \u001b[0mshow\u001b[0m\u001b[0;34m(\u001b[0m\u001b[0mmodify_doc\u001b[0m\u001b[0;34m,\u001b[0m \u001b[0mnotebook_url\u001b[0m\u001b[0;34m=\u001b[0m\u001b[0;34m'http://localhost:8889/notebooks/Untitled.ipynb'\u001b[0m\u001b[0;34m)\u001b[0m\u001b[0;34m\u001b[0m\u001b[0;34m\u001b[0m\u001b[0m\n\u001b[0m",
      "\u001b[0;32m~/anaconda3/envs/ncview2-2/lib/python3.7/site-packages/bokeh/io/showing.py\u001b[0m in \u001b[0;36mshow\u001b[0;34m(obj, browser, new, notebook_handle, notebook_url)\u001b[0m\n\u001b[1;32m    138\u001b[0m     \u001b[0;31m# in Tornado) just in order to show a non-server object\u001b[0m\u001b[0;34m\u001b[0m\u001b[0;34m\u001b[0m\u001b[0;34m\u001b[0m\u001b[0m\n\u001b[1;32m    139\u001b[0m     \u001b[0;32mif\u001b[0m \u001b[0mis_application\u001b[0m \u001b[0;32mor\u001b[0m \u001b[0mcallable\u001b[0m\u001b[0;34m(\u001b[0m\u001b[0mobj\u001b[0m\u001b[0;34m)\u001b[0m\u001b[0;34m:\u001b[0m\u001b[0;34m\u001b[0m\u001b[0;34m\u001b[0m\u001b[0m\n\u001b[0;32m--> 140\u001b[0;31m         \u001b[0;32mreturn\u001b[0m \u001b[0mrun_notebook_hook\u001b[0m\u001b[0;34m(\u001b[0m\u001b[0mstate\u001b[0m\u001b[0;34m.\u001b[0m\u001b[0mnotebook_type\u001b[0m\u001b[0;34m,\u001b[0m \u001b[0;34m'app'\u001b[0m\u001b[0;34m,\u001b[0m \u001b[0mobj\u001b[0m\u001b[0;34m,\u001b[0m \u001b[0mstate\u001b[0m\u001b[0;34m,\u001b[0m \u001b[0mnotebook_url\u001b[0m\u001b[0;34m)\u001b[0m\u001b[0;34m\u001b[0m\u001b[0;34m\u001b[0m\u001b[0m\n\u001b[0m\u001b[1;32m    141\u001b[0m \u001b[0;34m\u001b[0m\u001b[0m\n\u001b[1;32m    142\u001b[0m     \u001b[0;32mreturn\u001b[0m \u001b[0m_show_with_state\u001b[0m\u001b[0;34m(\u001b[0m\u001b[0mobj\u001b[0m\u001b[0;34m,\u001b[0m \u001b[0mstate\u001b[0m\u001b[0;34m,\u001b[0m \u001b[0mbrowser\u001b[0m\u001b[0;34m,\u001b[0m \u001b[0mnew\u001b[0m\u001b[0;34m,\u001b[0m \u001b[0mnotebook_handle\u001b[0m\u001b[0;34m=\u001b[0m\u001b[0mnotebook_handle\u001b[0m\u001b[0;34m)\u001b[0m\u001b[0;34m\u001b[0m\u001b[0;34m\u001b[0m\u001b[0m\n",
      "\u001b[0;32m~/anaconda3/envs/ncview2-2/lib/python3.7/site-packages/bokeh/io/notebook.py\u001b[0m in \u001b[0;36mrun_notebook_hook\u001b[0;34m(notebook_type, action, *args, **kw)\u001b[0m\n\u001b[1;32m    296\u001b[0m     '''\n\u001b[1;32m    297\u001b[0m     \u001b[0;32mif\u001b[0m \u001b[0mnotebook_type\u001b[0m \u001b[0;32mnot\u001b[0m \u001b[0;32min\u001b[0m \u001b[0m_HOOKS\u001b[0m\u001b[0;34m:\u001b[0m\u001b[0;34m\u001b[0m\u001b[0;34m\u001b[0m\u001b[0m\n\u001b[0;32m--> 298\u001b[0;31m         \u001b[0;32mraise\u001b[0m \u001b[0mRuntimeError\u001b[0m\u001b[0;34m(\u001b[0m\u001b[0;34m\"no display hook installed for notebook type %r\"\u001b[0m \u001b[0;34m%\u001b[0m \u001b[0mnotebook_type\u001b[0m\u001b[0;34m)\u001b[0m\u001b[0;34m\u001b[0m\u001b[0;34m\u001b[0m\u001b[0m\n\u001b[0m\u001b[1;32m    299\u001b[0m     \u001b[0;32mif\u001b[0m \u001b[0m_HOOKS\u001b[0m\u001b[0;34m[\u001b[0m\u001b[0mnotebook_type\u001b[0m\u001b[0;34m]\u001b[0m\u001b[0;34m[\u001b[0m\u001b[0maction\u001b[0m\u001b[0;34m]\u001b[0m \u001b[0;32mis\u001b[0m \u001b[0;32mNone\u001b[0m\u001b[0;34m:\u001b[0m\u001b[0;34m\u001b[0m\u001b[0;34m\u001b[0m\u001b[0m\n\u001b[1;32m    300\u001b[0m         \u001b[0;32mraise\u001b[0m \u001b[0mRuntimeError\u001b[0m\u001b[0;34m(\u001b[0m\u001b[0;34m\"notebook hook for %r did not install %r action\"\u001b[0m \u001b[0;34m%\u001b[0m \u001b[0mnotebook_type\u001b[0m\u001b[0;34m,\u001b[0m \u001b[0maction\u001b[0m\u001b[0;34m)\u001b[0m\u001b[0;34m\u001b[0m\u001b[0;34m\u001b[0m\u001b[0m\n",
      "\u001b[0;31mRuntimeError\u001b[0m: no display hook installed for notebook type None"
     ]
    }
   ],
   "source": [
    "import numpy as np\n",
    "import holoviews as hv\n",
    "\n",
    "from bokeh.io import show, curdoc\n",
    "from bokeh.layouts import layout\n",
    "from bokeh.models import Slider, Button\n",
    "\n",
    "renderer = hv.renderer('bokeh').instance(mode='server')\n",
    "\n",
    "# Create the holoviews app again\n",
    "def sine(phase):\n",
    "    xs = np.linspace(0, np.pi*4)\n",
    "    return hv.Curve((xs, np.sin(xs+phase))).opts(width=800)\n",
    "\n",
    "stream = hv.streams.Stream.define('Phase', phase=0.)()\n",
    "dmap = hv.DynamicMap(sine, streams=[stream])\n",
    "\n",
    "# Define valid function for FunctionHandler\n",
    "# when deploying as script, simply attach to curdoc\n",
    "def modify_doc(doc):\n",
    "    # Create HoloViews plot and attach the document\n",
    "    hvplot = renderer.get_plot(dmap, doc)\n",
    "\n",
    "    # Create a slider and play buttons\n",
    "    def animate_update():\n",
    "        year = slider.value + 0.2\n",
    "        if year > end:\n",
    "            year = start\n",
    "        slider.value = year\n",
    "\n",
    "    def slider_update(attrname, old, new):\n",
    "        # Notify the HoloViews stream of the slider update \n",
    "        stream.event(phase=new)\n",
    "        \n",
    "    start, end = 0, np.pi*2\n",
    "    slider = Slider(start=start, end=end, value=start, step=0.2, title=\"Phase\")\n",
    "    slider.on_change('value', slider_update)\n",
    "    \n",
    "    callback_id = None\n",
    "\n",
    "    def animate():\n",
    "        global callback_id\n",
    "        if button.label == '► Play':\n",
    "            button.label = '❚❚ Pause'\n",
    "            callback_id = doc.add_periodic_callback(animate_update, 50)\n",
    "        else:\n",
    "            button.label = '► Play'\n",
    "            doc.remove_periodic_callback(callback_id)\n",
    "    button = Button(label='► Play', width=60)\n",
    "    button.on_click(animate)\n",
    "    \n",
    "    # Combine the holoviews plot and widgets in a layout\n",
    "    plot = layout([\n",
    "    [hvplot.state],\n",
    "    [slider, button]], sizing_mode='fixed')\n",
    "    \n",
    "    doc.add_root(plot)\n",
    "    return doc\n",
    "\n",
    "# To display in the notebook\n",
    "show(modify_doc, notebook_url='http://localhost:8889')"
   ]
  },
  {
   "cell_type": "code",
   "execution_count": null,
   "metadata": {},
   "outputs": [],
   "source": []
  },
  {
   "cell_type": "code",
   "execution_count": null,
   "metadata": {},
   "outputs": [],
   "source": []
  },
  {
   "cell_type": "code",
   "execution_count": null,
   "metadata": {},
   "outputs": [],
   "source": []
  },
  {
   "cell_type": "code",
   "execution_count": null,
   "metadata": {},
   "outputs": [],
   "source": []
  }
 ],
 "metadata": {
  "kernelspec": {
   "display_name": "Python 3.7.3 64-bit ('ncview2-2': conda)",
   "language": "python",
   "name": "python37364bitncview22condabadaa010e3c84e6895b7641d1588829e"
  },
  "language_info": {
   "codemirror_mode": {
    "name": "ipython",
    "version": 3
   },
   "file_extension": ".py",
   "mimetype": "text/x-python",
   "name": "python",
   "nbconvert_exporter": "python",
   "pygments_lexer": "ipython3",
   "version": "3.7.3"
  },
  "toc": {
   "base_numbering": 1,
   "nav_menu": {},
   "number_sections": true,
   "sideBar": true,
   "skip_h1_title": false,
   "title_cell": "Table of Contents",
   "title_sidebar": "Contents",
   "toc_cell": false,
   "toc_position": {},
   "toc_section_display": true,
   "toc_window_display": false
  },
  "varInspector": {
   "cols": {
    "lenName": 16,
    "lenType": 16,
    "lenVar": 40
   },
   "kernels_config": {
    "python": {
     "delete_cmd_postfix": "",
     "delete_cmd_prefix": "del ",
     "library": "var_list.py",
     "varRefreshCmd": "print(var_dic_list())"
    },
    "r": {
     "delete_cmd_postfix": ") ",
     "delete_cmd_prefix": "rm(",
     "library": "var_list.r",
     "varRefreshCmd": "cat(var_dic_list()) "
    }
   },
   "types_to_exclude": [
    "module",
    "function",
    "builtin_function_or_method",
    "instance",
    "_Feature"
   ],
   "window_display": false
  }
 },
 "nbformat": 4,
 "nbformat_minor": 4
}
